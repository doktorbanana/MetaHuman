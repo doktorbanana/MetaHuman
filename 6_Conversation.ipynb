{
 "cells": [
  {
   "cell_type": "markdown",
   "id": "62b6155c-7b4f-4f71-b673-63dba7734a30",
   "metadata": {},
   "source": [
    "# Conversation\n",
    "Now that we've trained and saved two indepedent models with two independent training sets, we want them to talk to each other. In a first step autoencoder1 produces a new song and sends it to autoencoder2 in PCA format. Autoencoder1 plays the audio, while Autoencoder2 analyze it and finds a 2D representation in its latent space. When Autoencoder1 is finished, Autoencoder2 tries to reproduce the song by decoding its latent space representation back to PCA. The process then starts to anew with switched roles."
   ]
  },
  {
   "cell_type": "code",
   "execution_count": 1,
   "id": "0615a77d-77de-4da8-81fa-9cca7c86b0f2",
   "metadata": {},
   "outputs": [],
   "source": [
    "from SoundGenerator import SoundGenerator\n",
    "from Variational_Autoencoder_alla_Valerio import VAE\n",
    "from SoundGenerator import SoundGenerator"
   ]
  },
  {
   "cell_type": "code",
   "execution_count": 3,
   "id": "ee46ac29-9251-4515-899b-976d25d8c379",
   "metadata": {},
   "outputs": [],
   "source": [
    "WIN_LENGTH = int(44100 / 8)\n",
    "HOP_LENGTH = int(44100 / 23)\n",
    "N_FFT = int(44100 / 8)"
   ]
  },
  {
   "cell_type": "markdown",
   "id": "710117da-1b6c-40e1-8466-165036744796",
   "metadata": {},
   "source": [
    "First we need to load the two autoencoders and two corresponding SoundGenerators."
   ]
  },
  {
   "cell_type": "code",
   "execution_count": null,
   "id": "b98d4537-cd3f-4a46-b19e-6dbca7595b0a",
   "metadata": {},
   "outputs": [],
   "source": [
    "autoencoder1_name=\"VAE_2D_1.0_24_2500samples\"\n",
    "autoencoder2_name=\"VAE_2D_1.0_24_2500samples\"\n",
    "\n",
    "valerio = VAE.load(autoencodeSoundGeneratorio_sg = SoundGenerator(\n",
    "dennis = VAE.load(autoencoder2_name)"
   ]
  },
  {
   "cell_type": "code",
   "execution_count": null,
   "id": "2adcc9f5-e3ab-41eb-8669-8136987b49a8",
   "metadata": {},
   "outputs": [],
   "source": [
    "\n",
    "        \n",
    "    def sing"
   ]
  }
 ],
 "metadata": {
  "kernelspec": {
   "display_name": "Python 3 (ipykernel)",
   "language": "python",
   "name": "python3"
  },
  "language_info": {
   "codemirror_mode": {
    "name": "ipython",
    "version": 3
   },
   "file_extension": ".py",
   "mimetype": "text/x-python",
   "name": "python",
   "nbconvert_exporter": "python",
   "pygments_lexer": "ipython3",
   "version": "3.8.10"
  }
 },
 "nbformat": 4,
 "nbformat_minor": 5
}
