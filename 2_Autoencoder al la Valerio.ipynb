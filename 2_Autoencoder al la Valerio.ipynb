{
 "cells": [
  {
   "cell_type": "markdown",
   "id": "bae2036a-a6cd-4ffb-93d9-588ec932d76d",
   "metadata": {},
   "source": [
    "# Autoencoder for Snippets\n",
    "We build a mirrored deep convultional autoencoder."
   ]
  },
  {
   "cell_type": "code",
   "execution_count": 2,
   "id": "06a2319e-308b-437d-bfda-ab242ae379c8",
   "metadata": {},
   "outputs": [],
   "source": [
    "from Variational_Autoencoder_alla_Valerio import VAE"
   ]
  },
  {
   "cell_type": "markdown",
   "id": "38ca553f-0f8e-4e5a-8ff2-60da87a30f57",
   "metadata": {},
   "source": [
    "## Load the Data\n",
    "First we need to load the snippets we created."
   ]
  },
  {
   "cell_type": "code",
   "execution_count": null,
   "id": "d4a43fa9-bcd8-4afa-b1c4-50c552bc7138",
   "metadata": {},
   "outputs": [],
   "source": [
    "subfolder = \"0.25_16\"\n",
    "x_train = np.load(\"data_and_models\\\\\" + subfolder + \"\\\\spectos.npy\")\n",
    "#x_train = x_train[:1000]\n"
   ]
  },
  {
   "cell_type": "markdown",
   "id": "867d0db5-c893-41f3-8aaf-0aeabb76c08e",
   "metadata": {},
   "source": [
    "## Building the VAE"
   ]
  },
  {
   "cell_type": "code",
   "execution_count": null,
   "id": "6a8e049b-82f7-47b4-8bda-9051f1848ba7",
   "metadata": {},
   "outputs": [],
   "source": [
    "autoencoder = VAE(\n",
    "    input_shape=(x_train[0].shape[0], x_train[0].shape[1], x_train[0].shape[2]),\n",
    "    conv_filters=(512, 256, 128, 64, 32),\n",
    "    conv_kernels=(3, 3, 3, 3, 3),\n",
    "    conv_strides=(2, 2, 2, 2, (2,1)),\n",
    "    latent_space_dim=128\n",
    ")\n",
    "\n",
    "autoencoder.summary()\n",
    "\n",
    "print(x_train.shape)\n",
    "\n"
   ]
  },
  {
   "cell_type": "markdown",
   "id": "f0c6c394-af1a-4c8d-a998-7eb52949cfe3",
   "metadata": {},
   "source": [
    "## Train the VAE\n",
    "We recommend to train the Autoencoder in Pycharm as Jupyter might lose the connection during training."
   ]
  },
  {
   "cell_type": "code",
   "execution_count": null,
   "id": "c079de02-cadc-41aa-8b2b-789c990434f0",
   "metadata": {},
   "outputs": [],
   "source": [
    "# LEARNING_RATE = 0.0005\n",
    "# BATCH_SIZE = 32\n",
    "# EPOCHS = 20\n",
    "\n",
    "# autoencoder.compile_model(LEARNING_RATE)\n",
    "# autoencoder.train(x_train, BATCH_SIZE, EPOCHS)"
   ]
  },
  {
   "cell_type": "markdown",
   "id": "31dec16d-7415-4052-8640-c72cf14d28d8",
   "metadata": {},
   "source": [
    "## Save the trained VAE"
   ]
  },
  {
   "cell_type": "code",
   "execution_count": null,
   "id": "00efa1a9-dde2-4fc9-b936-0825702ca737",
   "metadata": {},
   "outputs": [],
   "source": [
    "# save_path = \"data_and_models\\\\\" + subfolder + \"\\\\VAE_Vocals_\" + str(autoencoder.latent_space_dim) + \"D_\" + str(autoencoder.num_of_train_data) + \"samples_\" + str(EPOCHS) + \"Epochs\"\n",
    "# autoencoder.save(save_path)"
   ]
  }
 ],
 "metadata": {
  "kernelspec": {
   "display_name": "Python 3 (ipykernel)",
   "language": "python",
   "name": "python3"
  },
  "language_info": {
   "codemirror_mode": {
    "name": "ipython",
    "version": 3
   },
   "file_extension": ".py",
   "mimetype": "text/x-python",
   "name": "python",
   "nbconvert_exporter": "python",
   "pygments_lexer": "ipython3",
   "version": "3.8.10"
  }
 },
 "nbformat": 4,
 "nbformat_minor": 5
}
