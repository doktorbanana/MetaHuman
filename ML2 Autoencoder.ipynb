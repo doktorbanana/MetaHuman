{
 "cells": [
  {
   "cell_type": "markdown",
   "id": "db49fd81-bdab-4796-88aa-d7fecab98d4e",
   "metadata": {},
   "source": [
    "## Autoencoder für die Reihenfolge:"
   ]
  },
  {
   "cell_type": "code",
   "execution_count": 2,
   "id": "bd0f6625-0b39-4094-a25b-e6cc17f39654",
   "metadata": {},
   "outputs": [],
   "source": [
    "import numpy as np\n",
    "import matplotlib.pyplot as plt\n",
    "import matplotlib as mpl\n",
    "import tensorflow as tf\n",
    "from tensorflow import keras\n",
    "from tensorflow.keras import backend as K\n",
    "\n",
    "mpl.rcParams['figure.figsize'] = (15, 5)\n",
    "\n",
    "np.random.seed(42)"
   ]
  },
  {
   "cell_type": "markdown",
   "id": "b53472cc-5854-46d4-abb7-6e3fcfefccd8",
   "metadata": {},
   "source": [
    "### Input Data:\n",
    "Das 3D Array, das alle latent_representations der Wavesets für jeden Song enthält."
   ]
  },
  {
   "cell_type": "code",
   "execution_count": null,
   "id": "015980d5-860c-4353-a4fc-36881bb4529f",
   "metadata": {},
   "outputs": [],
   "source": []
  }
 ],
 "metadata": {
  "kernelspec": {
   "display_name": "Python 3 (ipykernel)",
   "language": "python",
   "name": "python3"
  },
  "language_info": {
   "codemirror_mode": {
    "name": "ipython",
    "version": 3
   },
   "file_extension": ".py",
   "mimetype": "text/x-python",
   "name": "python",
   "nbconvert_exporter": "python",
   "pygments_lexer": "ipython3",
   "version": "3.8.9"
  }
 },
 "nbformat": 4,
 "nbformat_minor": 5
}
