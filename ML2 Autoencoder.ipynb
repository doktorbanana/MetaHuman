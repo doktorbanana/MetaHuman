{
 "cells": [
  {
   "cell_type": "markdown",
   "id": "db49fd81-bdab-4796-88aa-d7fecab98d4e",
   "metadata": {},
   "source": [
    "## Autoencoder für die Reihenfolge"
   ]
  },
  {
   "cell_type": "code",
   "execution_count": null,
   "id": "bd0f6625-0b39-4094-a25b-e6cc17f39654",
   "metadata": {},
   "outputs": [],
   "source": []
  }
 ],
 "metadata": {
  "kernelspec": {
   "display_name": "Python 3 (ipykernel)",
   "language": "python",
   "name": "python3"
  },
  "language_info": {
   "codemirror_mode": {
    "name": "ipython",
    "version": 3
   },
   "file_extension": ".py",
   "mimetype": "text/x-python",
   "name": "python",
   "nbconvert_exporter": "python",
   "pygments_lexer": "ipython3",
   "version": "3.8.9"
  }
 },
 "nbformat": 4,
 "nbformat_minor": 5
}
