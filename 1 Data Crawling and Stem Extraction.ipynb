{
 "cells": [
  {
   "cell_type": "markdown",
   "id": "7fc3ca43-24e1-4445-9565-0eb669a0a422",
   "metadata": {},
   "source": [
    "# Data Crawling\n",
    "For the training of the two sub-networks of the two networks we need data. In this project the selection of training data is an important creative decision. Since Machine Learning algorithms try to minimize some kind of error, it is crutial how this error is defined. The networks will try to produce sound as close as possible to their training data. Thus the produced sounds will be very different, for different training data. As stated above, we want to give as many creative decision as possible to machines, since the goal is a meta-human sound. Therefor we've decided to use yet another machine learning algorithm to select the training data: YouTube's recomendation algorithm.\n",
    "\n",
    "The following code controls the mouse of the users system to collect YouTube links. For this the user has to open a YouTube video on a Full-HD screen. The code will automatically click on the next recomendation and copy the URL. That can be used to download the sound of the YouTube video, e.g. via the program MediaHuman.\n",
    "\n",
    "WARNING: This code controls the mouse! You can only stop it by pressing and holding down the space bar!"
   ]
  },
  {
   "cell_type": "code",
   "execution_count": 1,
   "id": "30d3814c-ca2d-4cdc-b2a4-57cb49d11319",
   "metadata": {},
   "outputs": [
    {
     "ename": "ModuleNotFoundError",
     "evalue": "No module named 'mouse'",
     "output_type": "error",
     "traceback": [
      "\u001b[0;31m---------------------------------------------------------------------------\u001b[0m",
      "\u001b[0;31mModuleNotFoundError\u001b[0m                       Traceback (most recent call last)",
      "Input \u001b[0;32mIn [1]\u001b[0m, in \u001b[0;36m<cell line: 1>\u001b[0;34m()\u001b[0m\n\u001b[0;32m----> 1\u001b[0m \u001b[38;5;28;01mimport\u001b[39;00m \u001b[38;5;21;01mmouse\u001b[39;00m\u001b[38;5;241m,\u001b[39m \u001b[38;5;21;01mkeyboard\u001b[39;00m\n\u001b[1;32m      2\u001b[0m \u001b[38;5;28;01mimport\u001b[39;00m \u001b[38;5;21;01mtime\u001b[39;00m\n\u001b[1;32m      4\u001b[0m \u001b[38;5;28;01mdef\u001b[39;00m \u001b[38;5;21mclick_next_video\u001b[39m():\n",
      "\u001b[0;31mModuleNotFoundError\u001b[0m: No module named 'mouse'"
     ]
    }
   ],
   "source": [
    "import mouse, keyboard\n",
    "import time\n",
    "\n",
    "def click_next_video():\n",
    "    mouse.move(504, 700)\n",
    "    time.sleep(5)\n",
    "    mouse.click()\n",
    "    time.sleep(2)\n",
    "    keyboard.send(\"shift+n\")\n",
    "    time.sleep(1)\n",
    "\n",
    "def copy_link():\n",
    "    mouse.move(504, 50)\n",
    "    mouse.click()\n",
    "    time.sleep(0.6)\n",
    "    keyboard.send(\"ctrl+c\")\n",
    "\n",
    "if __name__ == '__main__':\n",
    "\n",
    "    # while True:\n",
    "    #    print(mouse.get_position())\n",
    "    time.sleep(5) # time to change the window to Youtube\n",
    "\n",
    "    for i in range(1000):\n",
    "        if keyboard.is_pressed(\"space\"):\n",
    "            exit()\n",
    "        copy_link()\n",
    "        click_next_video()\n",
    "        print(i)\n",
    "\n"
   ]
  },
  {
   "cell_type": "markdown",
   "id": "557d08e9-e9fc-43ae-b46b-9c6bb285000a",
   "metadata": {},
   "source": [
    "During testing of this project, we've recognized that songs with full instrumentation are too complex. Rather we want to use single instruments or vocals. Again, we don't need a human to decide which signal counts as \"vocals\". We can use another machine learning algorithm to extract stems from the downloaded song. We used spleeter (more info here: https://github.com/deezer/spleeter)\n"
   ]
  },
  {
   "cell_type": "code",
   "execution_count": null,
   "id": "8126185a-8f0a-4b57-b844-48f14b7685b8",
   "metadata": {},
   "outputs": [],
   "source": [
    "import time\n",
    "import librosa\n",
    "import soundfile as sf\n",
    "from spleeter.separator import Separator\n",
    "from spleeter.audio.adapter import AudioAdapter\n",
    "import glob\n",
    "import numpy as np\n",
    "\n",
    "\n",
    "def _check_rms(data, path=\"Unkown\"):\n",
    "    rms = librosa.feature.rms(y=data, frame_length=data.shape[0])\n",
    "    if rms[0][0] > 0.00000001:\n",
    "        print(\"RMS of song \" + str(path) + \" is: \" + str(rms[0][0]))\n",
    "        return 0\n",
    "    else:\n",
    "        print(\"I don't think there were vocals in the song: \" + str(path))\n",
    "        return 1  # The RMS Level is very low -> probably the song didn't have vocals\n",
    "\n",
    "\n",
    "if __name__ == '__main__':\n",
    "    separator = Separator('spleeter:2stems')\n",
    "    subfolder = 1500\n",
    "    list_of_files = glob.glob('demo_data\\\\YouTubeSongs\\\\' + str(subfolder) + '\\\\*')\n",
    "   # print(list_of_files)\n",
    "    start_time = time.time()\n",
    "\n",
    "    audio_loader = AudioAdapter.default()\n",
    "    sample_rate = 44100\n",
    "\n",
    "    # Perform the Separation\n",
    "    for i,file in enumerate(list_of_files):\n",
    "        waveform, _ = audio_loader.load(file, sample_rate=sample_rate)\n",
    "        prediction = separator.separate(waveform)\n",
    "        vocals = prediction[\"vocals\"]\n",
    "        empty = _check_rms(vocals, file)\n",
    "        save_path = \"demo_data\\\\stems\\\\voclas\" + str(i + (subfolder-100)) +\".wav\"\n",
    "        if empty<1:\n",
    "            sf.write(file=save_path, data=vocals, samplerate=44100)\n",
    "        print(str(i+1) + \" of \" + str(len(list_of_files)) +\" Songs done\")\n",
    "    end_time = time.time()\n",
    "\n",
    "    print(\"took me \" + str(end_time-start_time) + \" seconds to finish \" + str(len(list_of_files)) + \" songs\")"
   ]
  }
 ],
 "metadata": {
  "kernelspec": {
   "display_name": "Python 3 (ipykernel)",
   "language": "python",
   "name": "python3"
  },
  "language_info": {
   "codemirror_mode": {
    "name": "ipython",
    "version": 3
   },
   "file_extension": ".py",
   "mimetype": "text/x-python",
   "name": "python",
   "nbconvert_exporter": "python",
   "pygments_lexer": "ipython3",
   "version": "3.8.9"
  }
 },
 "nbformat": 4,
 "nbformat_minor": 5
}
