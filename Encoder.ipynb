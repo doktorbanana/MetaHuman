{
 "cells": [
  {
   "cell_type": "markdown",
   "id": "075cda2d-c432-4df4-9afb-ec6efd6b6fbb",
   "metadata": {},
   "source": [
    "# Encoder nach Dennis:"
   ]
  },
  {
   "cell_type": "code",
   "execution_count": 1,
   "id": "a3853671-7565-4521-8e89-d7d83b0aeadf",
   "metadata": {},
   "outputs": [],
   "source": [
    "import numpy as np\n",
    "import matplotlib.pyplot as plt\n",
    "import matplotlib as mpl\n",
    "import tensorflow as tf\n",
    "from tensorflow import keras\n",
    "from tensorflow.keras import backend as K\n",
    "\n",
    "mpl.rcParams['figure.figsize'] = (15, 5)\n",
    "\n",
    "np.random.seed(42)"
   ]
  },
  {
   "cell_type": "markdown",
   "id": "6916ca4f-a929-4452-aac5-7f23e1effb1b",
   "metadata": {},
   "source": [
    "### Trainingsdata Beispiel (mnist)"
   ]
  },
  {
   "cell_type": "code",
   "execution_count": 2,
   "id": "7ba7f63b-41dc-4817-a133-03dd7ad69601",
   "metadata": {
    "tags": []
   },
   "outputs": [
    {
     "data": {
      "text/plain": [
       "(60000, 28, 28, 1)"
      ]
     },
     "execution_count": 2,
     "metadata": {},
     "output_type": "execute_result"
    }
   ],
   "source": [
    "(x_train, y_train), (x_test, y_test) = keras.datasets.mnist.load_data()\n",
    "# add dim b/c of convolution\n",
    "# scale data from [0,255] to [0,1]\n",
    "x_train_cnn = x_train[:, :, :, np.newaxis] / 255.0\n",
    "x_test_cnn = x_test[:, :, :, np.newaxis] / 255.0\n",
    "x_train_cnn.shape"
   ]
  },
  {
   "cell_type": "code",
   "execution_count": 3,
   "id": "a62062c2-5d01-4dde-b31f-316daaf049b2",
   "metadata": {
    "tags": []
   },
   "outputs": [
    {
     "data": {
      "text/plain": [
       "(1560, 128, 32, 1)"
      ]
     },
     "execution_count": 3,
     "metadata": {},
     "output_type": "execute_result"
    }
   ],
   "source": [
    "spectogram_data = np.load(\"data\\spectos.npy\")\n",
    "song_labels = np.load(\"data\\song_labels.npy\")\n",
    "position_labels = np.load(\"data\\position_labels.npy\")\n",
    "\n",
    "spectogram_data = spectogram_data[..., np.newaxis]\n",
    "spectogram_data.shape"
   ]
  },
  {
   "cell_type": "markdown",
   "id": "e663d90b-9a56-41d2-b00f-b87e08f8cda1",
   "metadata": {},
   "source": [
    "### Encoder:"
   ]
  },
  {
   "cell_type": "code",
   "execution_count": 4,
   "id": "f9c714ca-4715-4be2-953a-21fc35c43e8f",
   "metadata": {
    "tags": []
   },
   "outputs": [
    {
     "name": "stdout",
     "output_type": "stream",
     "text": [
      "Model: \"encoder\"\n",
      "_________________________________________________________________\n",
      " Layer (type)                Output Shape              Param #   \n",
      "=================================================================\n",
      " conv2d (Conv2D)             (None, 64, 16, 32)        544       \n",
      "                                                                 \n",
      " conv2d_1 (Conv2D)           (None, 32, 8, 64)         32832     \n",
      "                                                                 \n",
      " flatten (Flatten)           (None, 16384)             0         \n",
      "                                                                 \n",
      " dense (Dense)               (None, 64)                1048640   \n",
      "                                                                 \n",
      " dropout (Dropout)           (None, 64)                0         \n",
      "                                                                 \n",
      " dense_1 (Dense)             (None, 2)                 130       \n",
      "                                                                 \n",
      "=================================================================\n",
      "Total params: 1,082,146\n",
      "Trainable params: 1,082,146\n",
      "Non-trainable params: 0\n",
      "_________________________________________________________________\n"
     ]
    }
   ],
   "source": [
    "encoder = tf.keras.models.Sequential([\n",
    "    tf.keras.layers.Input(shape=(128, 32, 1)),\n",
    "    tf.keras.layers.Conv2D(32, kernel_size=4, strides=2, padding='same', activation='leaky_relu'),\n",
    "    tf.keras.layers.Conv2D(64, kernel_size=4, strides=2, padding='same', activation='leaky_relu'),\n",
    "    tf.keras.layers.Flatten(),\n",
    "    tf.keras.layers.Dense(64),\n",
    "    tf.keras.layers.Dropout(0.3),\n",
    "    tf.keras.layers.Dense(2),\n",
    "], name='encoder')\n",
    "encoder.summary()"
   ]
  },
  {
   "cell_type": "code",
   "execution_count": 5,
   "id": "dc6e32f7-7d18-48f6-9591-a4007cc34e3e",
   "metadata": {
    "tags": []
   },
   "outputs": [
    {
     "name": "stdout",
     "output_type": "stream",
     "text": [
      "Model: \"decoder\"\n",
      "_________________________________________________________________\n",
      " Layer (type)                Output Shape              Param #   \n",
      "=================================================================\n",
      " dense_2 (Dense)             (None, 64)                192       \n",
      "                                                                 \n",
      " dense_3 (Dense)             (None, 16384)             1064960   \n",
      "                                                                 \n",
      " reshape (Reshape)           (None, 32, 8, 64)         0         \n",
      "                                                                 \n",
      " conv2d_transpose (Conv2DTra  (None, 64, 16, 64)       65600     \n",
      " nspose)                                                         \n",
      "                                                                 \n",
      " conv2d_transpose_1 (Conv2DT  (None, 128, 32, 32)      32800     \n",
      " ranspose)                                                       \n",
      "                                                                 \n",
      " conv2d_transpose_2 (Conv2DT  (None, 128, 32, 1)       513       \n",
      " ranspose)                                                       \n",
      "                                                                 \n",
      "=================================================================\n",
      "Total params: 1,164,065\n",
      "Trainable params: 1,164,065\n",
      "Non-trainable params: 0\n",
      "_________________________________________________________________\n"
     ]
    }
   ],
   "source": [
    "decoder = tf.keras.models.Sequential([\n",
    "    tf.keras.layers.Input(shape=(2,)),\n",
    "    # we want this layer to have the same dimension as the first dense layer\n",
    "    # so we can go \"backwards\" as we have gone \"forwards\"\n",
    "    tf.keras.layers.Dense(64),\n",
    "    tf.keras.layers.Dense(32*8*64),\n",
    "    # reshape from a vector to a multidimensional array (image)\n",
    "    tf.keras.layers.Reshape((32, 8, 64)),\n",
    "    tf.keras.layers.Conv2DTranspose(64, kernel_size=4, strides=2, padding='same', activation='leaky_relu'),\n",
    "    tf.keras.layers.Conv2DTranspose(32, kernel_size=4, strides=2, padding='same', activation='leaky_relu'),\n",
    "    # back to the 1 dimensional black/white image\n",
    "    tf.keras.layers.Conv2DTranspose(1, kernel_size=4, strides=1, padding='same', activation='leaky_relu'),\n",
    "], name='decoder')\n",
    "decoder.summary()"
   ]
  },
  {
   "cell_type": "code",
   "execution_count": 6,
   "id": "ca5fd25f-6960-480b-b323-d324cdd41368",
   "metadata": {
    "tags": []
   },
   "outputs": [
    {
     "name": "stdout",
     "output_type": "stream",
     "text": [
      "Model: \"autoencoder\"\n",
      "_________________________________________________________________\n",
      " Layer (type)                Output Shape              Param #   \n",
      "=================================================================\n",
      " input_1 (InputLayer)        [(None, 128, 32, 1)]      0         \n",
      "                                                                 \n",
      " conv2d (Conv2D)             (None, 64, 16, 32)        544       \n",
      "                                                                 \n",
      " conv2d_1 (Conv2D)           (None, 32, 8, 64)         32832     \n",
      "                                                                 \n",
      " flatten (Flatten)           (None, 16384)             0         \n",
      "                                                                 \n",
      " dense (Dense)               (None, 64)                1048640   \n",
      "                                                                 \n",
      " dropout (Dropout)           (None, 64)                0         \n",
      "                                                                 \n",
      " dense_1 (Dense)             (None, 2)                 130       \n",
      "                                                                 \n",
      " decoder (Sequential)        (None, 128, 32, 1)        1164065   \n",
      "                                                                 \n",
      "=================================================================\n",
      "Total params: 2,246,211\n",
      "Trainable params: 2,246,211\n",
      "Non-trainable params: 0\n",
      "_________________________________________________________________\n"
     ]
    }
   ],
   "source": [
    "autoencoder = tf.keras.models.Model(encoder.input, decoder(encoder.output), name='autoencoder')\n",
    "autoencoder.summary()"
   ]
  },
  {
   "cell_type": "code",
   "execution_count": 7,
   "id": "af1e07e7-f01c-4938-8b36-1e476e4b05f4",
   "metadata": {},
   "outputs": [
    {
     "data": {
      "text/plain": [
       "(60000, 28, 28, 1)"
      ]
     },
     "execution_count": 7,
     "metadata": {},
     "output_type": "execute_result"
    }
   ],
   "source": [
    "x_train_cnn.shape"
   ]
  },
  {
   "cell_type": "code",
   "execution_count": 8,
   "id": "a4912bcc-7e27-454e-b51a-7c51d1001668",
   "metadata": {},
   "outputs": [
    {
     "data": {
      "text/plain": [
       "(1560, 128, 32, 1)"
      ]
     },
     "execution_count": 8,
     "metadata": {},
     "output_type": "execute_result"
    }
   ],
   "source": [
    "spectogram_data.shape"
   ]
  },
  {
   "cell_type": "code",
   "execution_count": null,
   "id": "5479a75b-9060-45e9-b57a-52a7ba3914e5",
   "metadata": {
    "tags": []
   },
   "outputs": [
    {
     "name": "stdout",
     "output_type": "stream",
     "text": [
      "4/8 [==============>...............] - ETA: 2s - loss: 799.9509"
     ]
    }
   ],
   "source": [
    "autoencoder.compile(\n",
    "    optimizer=tf.keras.optimizers.Adam(),\n",
    "    loss=lambda y_true, y_pred: K.mean(K.square(y_true - y_pred), axis=[1, 2, 3]),\n",
    ")\n",
    "\n",
    "autoencoder.fit(\n",
    "    #x=x_train_cnn,\n",
    "    x=spectogram_data,\n",
    "    # use the input as the target\n",
    "    #y=x_train_cnn,\n",
    "    y=spectogram_data,\n",
    "    batch_size=200,\n",
    "    shuffle=True,\n",
    "    epochs=1,\n",
    ")"
   ]
  },
  {
   "cell_type": "markdown",
   "id": "dfb670b4-1eda-4914-8c02-4848804cab4d",
   "metadata": {},
   "source": [
    "### Latent space Repräsentation:"
   ]
  },
  {
   "cell_type": "code",
   "execution_count": null,
   "id": "564c872b-ddef-4238-b46c-034914edb70e",
   "metadata": {},
   "outputs": [],
   "source": [
    "latent_represenation = encoder.predict(spectogram_data)\n",
    "latent_represenation.shape"
   ]
  },
  {
   "cell_type": "markdown",
   "id": "23efb9ba-7614-4675-9063-70992ecb6c27",
   "metadata": {
    "tags": []
   },
   "source": [
    "#### latent_representation ist ein zweidimensionales Array, das die Koordinaten aller Wavesets im Latent space enthält."
   ]
  },
  {
   "cell_type": "code",
   "execution_count": null,
   "id": "10b9fc65-3779-468f-9b9e-ebbd7e4a7440",
   "metadata": {},
   "outputs": [],
   "source": [
    "i = 2\n",
    "print(latent_represenation[i])"
   ]
  },
  {
   "cell_type": "code",
   "execution_count": null,
   "id": "846aa203-f55e-464a-b4a7-ab6ffaa24b32",
   "metadata": {},
   "outputs": [],
   "source": [
    "plt.figure(figsize=(15, 15))\n",
    "plt.scatter(latent_represenation[:, 0], latent_represenation[:, 1], c=position_labels)"
   ]
  },
  {
   "cell_type": "code",
   "execution_count": null,
   "id": "65debff0-8d7d-4d44-9133-388284ea1d99",
   "metadata": {},
   "outputs": [],
   "source": []
  }
 ],
 "metadata": {
  "kernelspec": {
   "display_name": "Python 3 (ipykernel)",
   "language": "python",
   "name": "python3"
  },
  "language_info": {
   "codemirror_mode": {
    "name": "ipython",
    "version": 3
   },
   "file_extension": ".py",
   "mimetype": "text/x-python",
   "name": "python",
   "nbconvert_exporter": "python",
   "pygments_lexer": "ipython3",
   "version": "3.8.10"
  }
 },
 "nbformat": 4,
 "nbformat_minor": 5
}
