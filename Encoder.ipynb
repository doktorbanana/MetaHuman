{
 "cells": [
  {
   "cell_type": "markdown",
   "id": "075cda2d-c432-4df4-9afb-ec6efd6b6fbb",
   "metadata": {},
   "source": [
    "# Encoder nach Dennis:"
   ]
  },
  {
   "cell_type": "code",
   "execution_count": 13,
   "id": "a3853671-7565-4521-8e89-d7d83b0aeadf",
   "metadata": {},
   "outputs": [],
   "source": [
    "import numpy as np\n",
    "import matplotlib.pyplot as plt\n",
    "import matplotlib as mpl\n",
    "import tensorflow as tf\n",
    "from tensorflow import keras\n",
    "from tensorflow.keras import backend as K\n",
    "\n",
    "mpl.rcParams['figure.figsize'] = (15, 5)\n",
    "\n",
    "np.random.seed(42)"
   ]
  },
  {
   "cell_type": "markdown",
   "id": "6916ca4f-a929-4452-aac5-7f23e1effb1b",
   "metadata": {},
   "source": [
    "### Trainingsdata Beispiel (mnist)"
   ]
  },
  {
   "cell_type": "code",
   "execution_count": 75,
   "id": "7ba7f63b-41dc-4817-a133-03dd7ad69601",
   "metadata": {
    "tags": []
   },
   "outputs": [
    {
     "data": {
      "text/plain": [
       "(60000, 28, 28, 1)"
      ]
     },
     "execution_count": 75,
     "metadata": {},
     "output_type": "execute_result"
    }
   ],
   "source": [
    "(x_train, y_train), (x_test, y_test) = keras.datasets.mnist.load_data()\n",
    "# add dim b/c of convolution\n",
    "# scale data from [0,255] to [0,1]\n",
    "x_train_cnn = x_train[:, :, :, np.newaxis] / 255.0\n",
    "x_test_cnn = x_test[:, :, :, np.newaxis] / 255.0\n",
    "x_train_cnn.shape"
   ]
  },
  {
   "cell_type": "code",
   "execution_count": 76,
   "id": "a62062c2-5d01-4dde-b31f-316daaf049b2",
   "metadata": {
    "tags": []
   },
   "outputs": [
    {
     "data": {
      "text/plain": [
       "(47, 128, 21, 1)"
      ]
     },
     "execution_count": 76,
     "metadata": {},
     "output_type": "execute_result"
    }
   ],
   "source": [
    "loaded_data1 = np.load(\"data\\spectos.npy\")\n",
    "loaded_data2 = np.load(\"data\\wsPerSong.npy\")\n",
    "\n",
    "loaded_data1 = loaded_data1[..., np.newaxis]\n",
    "loaded_data1.shape"
   ]
  },
  {
   "cell_type": "markdown",
   "id": "e663d90b-9a56-41d2-b00f-b87e08f8cda1",
   "metadata": {},
   "source": [
    "### Encoder:"
   ]
  },
  {
   "cell_type": "code",
   "execution_count": 64,
   "id": "f9c714ca-4715-4be2-953a-21fc35c43e8f",
   "metadata": {
    "tags": []
   },
   "outputs": [
    {
     "name": "stdout",
     "output_type": "stream",
     "text": [
      "Model: \"encoder\"\n",
      "_________________________________________________________________\n",
      " Layer (type)                Output Shape              Param #   \n",
      "=================================================================\n",
      " conv2d_20 (Conv2D)          (None, 64, 11, 32)        544       \n",
      "                                                                 \n",
      " conv2d_21 (Conv2D)          (None, 32, 6, 64)         32832     \n",
      "                                                                 \n",
      " flatten_10 (Flatten)        (None, 12288)             0         \n",
      "                                                                 \n",
      " dense_36 (Dense)            (None, 64)                786496    \n",
      "                                                                 \n",
      " dropout_10 (Dropout)        (None, 64)                0         \n",
      "                                                                 \n",
      " dense_37 (Dense)            (None, 2)                 130       \n",
      "                                                                 \n",
      "=================================================================\n",
      "Total params: 820,002\n",
      "Trainable params: 820,002\n",
      "Non-trainable params: 0\n",
      "_________________________________________________________________\n"
     ]
    }
   ],
   "source": [
    "encoder = tf.keras.models.Sequential([\n",
    "    tf.keras.layers.Input(shape=(128, 21, 1)),\n",
    "    tf.keras.layers.Conv2D(32, kernel_size=4, strides=2, padding='same', activation='leaky_relu'),\n",
    "    tf.keras.layers.Conv2D(64, kernel_size=4, strides=2, padding='same', activation='leaky_relu'),\n",
    "    tf.keras.layers.Flatten(),\n",
    "    tf.keras.layers.Dense(64),\n",
    "    tf.keras.layers.Dropout(0.3),\n",
    "    tf.keras.layers.Dense(2),\n",
    "], name='encoder')\n",
    "encoder.summary()"
   ]
  },
  {
   "cell_type": "code",
   "execution_count": 65,
   "id": "dc6e32f7-7d18-48f6-9591-a4007cc34e3e",
   "metadata": {
    "tags": []
   },
   "outputs": [
    {
     "name": "stdout",
     "output_type": "stream",
     "text": [
      "Model: \"decoder\"\n",
      "_________________________________________________________________\n",
      " Layer (type)                Output Shape              Param #   \n",
      "=================================================================\n",
      " dense_38 (Dense)            (None, 64)                192       \n",
      "                                                                 \n",
      " dense_39 (Dense)            (None, 3136)              203840    \n",
      "                                                                 \n",
      " reshape_8 (Reshape)         (None, 7, 7, 64)          0         \n",
      "                                                                 \n",
      " conv2d_transpose_24 (Conv2D  (None, 14, 14, 64)       65600     \n",
      " Transpose)                                                      \n",
      "                                                                 \n",
      " conv2d_transpose_25 (Conv2D  (None, 28, 28, 32)       32800     \n",
      " Transpose)                                                      \n",
      "                                                                 \n",
      " conv2d_transpose_26 (Conv2D  (None, 28, 28, 1)        513       \n",
      " Transpose)                                                      \n",
      "                                                                 \n",
      "=================================================================\n",
      "Total params: 302,945\n",
      "Trainable params: 302,945\n",
      "Non-trainable params: 0\n",
      "_________________________________________________________________\n"
     ]
    }
   ],
   "source": [
    "decoder = tf.keras.models.Sequential([\n",
    "    tf.keras.layers.Input(shape=(2,)),\n",
    "    # we want this layer to have the same dimension as the first dense layer\n",
    "    # so we can go \"backwards\" as we have gone \"forwards\"\n",
    "    tf.keras.layers.Dense(64),\n",
    "    tf.keras.layers.Dense(7*7*64),\n",
    "    # reshape from a vector to a multidimensional array (image)\n",
    "    tf.keras.layers.Reshape((7, 7, 64)),\n",
    "    tf.keras.layers.Conv2DTranspose(64, kernel_size=4, strides=2, padding='same', activation='leaky_relu'),\n",
    "    tf.keras.layers.Conv2DTranspose(32, kernel_size=4, strides=2, padding='same', activation='leaky_relu'),\n",
    "    # back to the 1 dimensional black/white image\n",
    "    tf.keras.layers.Conv2DTranspose(1, kernel_size=4, strides=1, padding='same', activation='leaky_relu'),\n",
    "], name='decoder')\n",
    "decoder.summary()"
   ]
  },
  {
   "cell_type": "code",
   "execution_count": 66,
   "id": "ca5fd25f-6960-480b-b323-d324cdd41368",
   "metadata": {
    "tags": []
   },
   "outputs": [
    {
     "name": "stdout",
     "output_type": "stream",
     "text": [
      "Model: \"autoencoder\"\n",
      "_________________________________________________________________\n",
      " Layer (type)                Output Shape              Param #   \n",
      "=================================================================\n",
      " input_19 (InputLayer)       [(None, 128, 21, 1)]      0         \n",
      "                                                                 \n",
      " conv2d_20 (Conv2D)          (None, 64, 11, 32)        544       \n",
      "                                                                 \n",
      " conv2d_21 (Conv2D)          (None, 32, 6, 64)         32832     \n",
      "                                                                 \n",
      " flatten_10 (Flatten)        (None, 12288)             0         \n",
      "                                                                 \n",
      " dense_36 (Dense)            (None, 64)                786496    \n",
      "                                                                 \n",
      " dropout_10 (Dropout)        (None, 64)                0         \n",
      "                                                                 \n",
      " dense_37 (Dense)            (None, 2)                 130       \n",
      "                                                                 \n",
      " decoder (Sequential)        (None, 28, 28, 1)         302945    \n",
      "                                                                 \n",
      "=================================================================\n",
      "Total params: 1,122,947\n",
      "Trainable params: 1,122,947\n",
      "Non-trainable params: 0\n",
      "_________________________________________________________________\n"
     ]
    }
   ],
   "source": [
    "autoencoder = tf.keras.models.Model(encoder.input, decoder(encoder.output), name='autoencoder')\n",
    "autoencoder.summary()"
   ]
  },
  {
   "cell_type": "code",
   "execution_count": 77,
   "id": "5479a75b-9060-45e9-b57a-52a7ba3914e5",
   "metadata": {
    "tags": []
   },
   "outputs": [
    {
     "ename": "ValueError",
     "evalue": "in user code:\n\n    File \"C:\\Users\\FynnFrei\\Documents\\GitHub\\MetaHuman\\venv\\lib\\site-packages\\keras\\engine\\training.py\", line 1021, in train_function  *\n        return step_function(self, iterator)\n    File \"C:\\Users\\FynnFrei\\AppData\\Local\\Temp\\ipykernel_17216\\1807049879.py\", line 3, in None  *\n        lambda y_true, y_pred: K.mean(K.square(y_true - y_pred), axis=[1, 2, 3])\n\n    ValueError: Dimensions must be equal, but are 128 and 28 for '{{node lambda/sub}} = Sub[T=DT_FLOAT](IteratorGetNext:1, autoencoder/decoder/conv2d_transpose_26/LeakyRelu)' with input shapes: [?,128,21,1], [?,28,28,1].\n",
     "output_type": "error",
     "traceback": [
      "\u001b[1;31m---------------------------------------------------------------------------\u001b[0m",
      "\u001b[1;31mValueError\u001b[0m                                Traceback (most recent call last)",
      "Input \u001b[1;32mIn [77]\u001b[0m, in \u001b[0;36m<cell line: 6>\u001b[1;34m()\u001b[0m\n\u001b[0;32m      1\u001b[0m autoencoder\u001b[38;5;241m.\u001b[39mcompile(\n\u001b[0;32m      2\u001b[0m     optimizer\u001b[38;5;241m=\u001b[39mtf\u001b[38;5;241m.\u001b[39mkeras\u001b[38;5;241m.\u001b[39moptimizers\u001b[38;5;241m.\u001b[39mAdam(),\n\u001b[0;32m      3\u001b[0m     loss\u001b[38;5;241m=\u001b[39m\u001b[38;5;28;01mlambda\u001b[39;00m y_true, y_pred: K\u001b[38;5;241m.\u001b[39mmean(K\u001b[38;5;241m.\u001b[39msquare(y_true \u001b[38;5;241m-\u001b[39m y_pred), axis\u001b[38;5;241m=\u001b[39m[\u001b[38;5;241m1\u001b[39m, \u001b[38;5;241m2\u001b[39m, \u001b[38;5;241m3\u001b[39m]),\n\u001b[0;32m      4\u001b[0m )\n\u001b[1;32m----> 6\u001b[0m \u001b[43mautoencoder\u001b[49m\u001b[38;5;241;43m.\u001b[39;49m\u001b[43mfit\u001b[49m\u001b[43m(\u001b[49m\n\u001b[0;32m      7\u001b[0m \u001b[43m    \u001b[49m\u001b[38;5;66;43;03m#x=x_train_cnn,\u001b[39;49;00m\n\u001b[0;32m      8\u001b[0m \u001b[43m    \u001b[49m\u001b[43mx\u001b[49m\u001b[38;5;241;43m=\u001b[39;49m\u001b[43mloaded_data1\u001b[49m\u001b[43m,\u001b[49m\n\u001b[0;32m      9\u001b[0m \u001b[43m    \u001b[49m\u001b[38;5;66;43;03m# use the input as the target\u001b[39;49;00m\n\u001b[0;32m     10\u001b[0m \u001b[43m    \u001b[49m\u001b[38;5;66;43;03m#y=x_train_cnn,\u001b[39;49;00m\n\u001b[0;32m     11\u001b[0m \u001b[43m    \u001b[49m\u001b[43my\u001b[49m\u001b[38;5;241;43m=\u001b[39;49m\u001b[43mloaded_data1\u001b[49m\u001b[43m,\u001b[49m\n\u001b[0;32m     12\u001b[0m \u001b[43m    \u001b[49m\u001b[43mbatch_size\u001b[49m\u001b[38;5;241;43m=\u001b[39;49m\u001b[38;5;241;43m200\u001b[39;49m\u001b[43m,\u001b[49m\n\u001b[0;32m     13\u001b[0m \u001b[43m    \u001b[49m\u001b[43mshuffle\u001b[49m\u001b[38;5;241;43m=\u001b[39;49m\u001b[38;5;28;43;01mTrue\u001b[39;49;00m\u001b[43m,\u001b[49m\n\u001b[0;32m     14\u001b[0m \u001b[43m    \u001b[49m\u001b[43mepochs\u001b[49m\u001b[38;5;241;43m=\u001b[39;49m\u001b[38;5;241;43m1\u001b[39;49m\u001b[43m,\u001b[49m\n\u001b[0;32m     15\u001b[0m \u001b[43m)\u001b[49m\n",
      "File \u001b[1;32m~\\Documents\\GitHub\\MetaHuman\\venv\\lib\\site-packages\\keras\\utils\\traceback_utils.py:67\u001b[0m, in \u001b[0;36mfilter_traceback.<locals>.error_handler\u001b[1;34m(*args, **kwargs)\u001b[0m\n\u001b[0;32m     65\u001b[0m \u001b[38;5;28;01mexcept\u001b[39;00m \u001b[38;5;167;01mException\u001b[39;00m \u001b[38;5;28;01mas\u001b[39;00m e:  \u001b[38;5;66;03m# pylint: disable=broad-except\u001b[39;00m\n\u001b[0;32m     66\u001b[0m   filtered_tb \u001b[38;5;241m=\u001b[39m _process_traceback_frames(e\u001b[38;5;241m.\u001b[39m__traceback__)\n\u001b[1;32m---> 67\u001b[0m   \u001b[38;5;28;01mraise\u001b[39;00m e\u001b[38;5;241m.\u001b[39mwith_traceback(filtered_tb) \u001b[38;5;28;01mfrom\u001b[39;00m \u001b[38;5;28mNone\u001b[39m\n\u001b[0;32m     68\u001b[0m \u001b[38;5;28;01mfinally\u001b[39;00m:\n\u001b[0;32m     69\u001b[0m   \u001b[38;5;28;01mdel\u001b[39;00m filtered_tb\n",
      "File \u001b[1;32m~\\Documents\\GitHub\\MetaHuman\\venv\\lib\\site-packages\\tensorflow\\python\\framework\\func_graph.py:1147\u001b[0m, in \u001b[0;36mfunc_graph_from_py_func.<locals>.autograph_handler\u001b[1;34m(*args, **kwargs)\u001b[0m\n\u001b[0;32m   1145\u001b[0m \u001b[38;5;28;01mexcept\u001b[39;00m \u001b[38;5;167;01mException\u001b[39;00m \u001b[38;5;28;01mas\u001b[39;00m e:  \u001b[38;5;66;03m# pylint:disable=broad-except\u001b[39;00m\n\u001b[0;32m   1146\u001b[0m   \u001b[38;5;28;01mif\u001b[39;00m \u001b[38;5;28mhasattr\u001b[39m(e, \u001b[38;5;124m\"\u001b[39m\u001b[38;5;124mag_error_metadata\u001b[39m\u001b[38;5;124m\"\u001b[39m):\n\u001b[1;32m-> 1147\u001b[0m     \u001b[38;5;28;01mraise\u001b[39;00m e\u001b[38;5;241m.\u001b[39mag_error_metadata\u001b[38;5;241m.\u001b[39mto_exception(e)\n\u001b[0;32m   1148\u001b[0m   \u001b[38;5;28;01melse\u001b[39;00m:\n\u001b[0;32m   1149\u001b[0m     \u001b[38;5;28;01mraise\u001b[39;00m\n",
      "\u001b[1;31mValueError\u001b[0m: in user code:\n\n    File \"C:\\Users\\FynnFrei\\Documents\\GitHub\\MetaHuman\\venv\\lib\\site-packages\\keras\\engine\\training.py\", line 1021, in train_function  *\n        return step_function(self, iterator)\n    File \"C:\\Users\\FynnFrei\\AppData\\Local\\Temp\\ipykernel_17216\\1807049879.py\", line 3, in None  *\n        lambda y_true, y_pred: K.mean(K.square(y_true - y_pred), axis=[1, 2, 3])\n\n    ValueError: Dimensions must be equal, but are 128 and 28 for '{{node lambda/sub}} = Sub[T=DT_FLOAT](IteratorGetNext:1, autoencoder/decoder/conv2d_transpose_26/LeakyRelu)' with input shapes: [?,128,21,1], [?,28,28,1].\n"
     ]
    }
   ],
   "source": [
    "autoencoder.compile(\n",
    "    optimizer=tf.keras.optimizers.Adam(),\n",
    "    loss=lambda y_true, y_pred: K.mean(K.square(y_true - y_pred), axis=[1, 2, 3]),\n",
    ")\n",
    "\n",
    "autoencoder.fit(\n",
    "    #x=x_train_cnn,\n",
    "    x=loaded_data1,\n",
    "    # use the input as the target\n",
    "    #y=x_train_cnn,\n",
    "    y=loaded_data1,\n",
    "    batch_size=200,\n",
    "    shuffle=True,\n",
    "    epochs=1,\n",
    ")"
   ]
  },
  {
   "cell_type": "markdown",
   "id": "dfb670b4-1eda-4914-8c02-4848804cab4d",
   "metadata": {},
   "source": [
    "### Latent space Repräsentation:"
   ]
  },
  {
   "cell_type": "code",
   "execution_count": 9,
   "id": "564c872b-ddef-4238-b46c-034914edb70e",
   "metadata": {},
   "outputs": [
    {
     "data": {
      "text/plain": [
       "(60000, 2)"
      ]
     },
     "execution_count": 9,
     "metadata": {},
     "output_type": "execute_result"
    }
   ],
   "source": [
    "latent_represenation = encoder.predict(x_train_cnn)\n",
    "latent_represenation.shape"
   ]
  },
  {
   "cell_type": "markdown",
   "id": "23efb9ba-7614-4675-9063-70992ecb6c27",
   "metadata": {
    "tags": []
   },
   "source": [
    "#### latent_representation ist ein zweidimensionales Array, das die Koordinaten aller Wavesets im Latent space enthält."
   ]
  },
  {
   "cell_type": "code",
   "execution_count": 79,
   "id": "10b9fc65-3779-468f-9b9e-ebbd7e4a7440",
   "metadata": {},
   "outputs": [
    {
     "ename": "NameError",
     "evalue": "name 'latent_represenation' is not defined",
     "output_type": "error",
     "traceback": [
      "\u001b[1;31m---------------------------------------------------------------------------\u001b[0m",
      "\u001b[1;31mNameError\u001b[0m                                 Traceback (most recent call last)",
      "Input \u001b[1;32mIn [79]\u001b[0m, in \u001b[0;36m<cell line: 5>\u001b[1;34m()\u001b[0m\n\u001b[0;32m      3\u001b[0m axs\u001b[38;5;241m.\u001b[39mimshow(x_train_cnn[i], cmap\u001b[38;5;241m=\u001b[39m\u001b[38;5;124m'\u001b[39m\u001b[38;5;124mbinary\u001b[39m\u001b[38;5;124m'\u001b[39m)\n\u001b[0;32m      4\u001b[0m axs\u001b[38;5;241m.\u001b[39maxis(\u001b[38;5;124m'\u001b[39m\u001b[38;5;124moff\u001b[39m\u001b[38;5;124m'\u001b[39m)\n\u001b[1;32m----> 5\u001b[0m \u001b[38;5;28mprint\u001b[39m(\u001b[43mlatent_represenation\u001b[49m[i])\n",
      "\u001b[1;31mNameError\u001b[0m: name 'latent_represenation' is not defined"
     ]
    },
    {
     "data": {
      "image/png": "[encoded data removed]",
      "text/plain": [
       "<Figure size 360x360 with 1 Axes>"
      ]
     },
     "metadata": {
      "needs_background": "light"
     },
     "output_type": "display_data"
    }
   ],
   "source": [
    "fig, axs = plt.subplots(1, 1, figsize=(5,5))\n",
    "i = 2\n",
    "axs.imshow(x_train_cnn[i], cmap='binary')\n",
    "axs.axis('off')\n",
    "print(latent_represenation[i])"
   ]
  },
  {
   "cell_type": "code",
   "execution_count": 81,
   "id": "846aa203-f55e-464a-b4a7-ab6ffaa24b32",
   "metadata": {},
   "outputs": [
    {
     "ename": "NameError",
     "evalue": "name 'latent_represenation' is not defined",
     "output_type": "error",
     "traceback": [
      "\u001b[1;31m---------------------------------------------------------------------------\u001b[0m",
      "\u001b[1;31mNameError\u001b[0m                                 Traceback (most recent call last)",
      "Input \u001b[1;32mIn [81]\u001b[0m, in \u001b[0;36m<cell line: 2>\u001b[1;34m()\u001b[0m\n\u001b[0;32m      1\u001b[0m plt\u001b[38;5;241m.\u001b[39mfigure(figsize\u001b[38;5;241m=\u001b[39m(\u001b[38;5;241m20\u001b[39m, \u001b[38;5;241m20\u001b[39m))\n\u001b[1;32m----> 2\u001b[0m plt\u001b[38;5;241m.\u001b[39mscatter(\u001b[43mlatent_represenation\u001b[49m[:, \u001b[38;5;241m0\u001b[39m], latent_represenation[:, \u001b[38;5;241m1\u001b[39m], c\u001b[38;5;241m=\u001b[39my_train)\n",
      "\u001b[1;31mNameError\u001b[0m: name 'latent_represenation' is not defined"
     ]
    },
    {
     "data": {
      "text/plain": [
       "<Figure size 1440x1440 with 0 Axes>"
      ]
     },
     "metadata": {},
     "output_type": "display_data"
    }
   ],
   "source": [
    "plt.figure(figsize=(20, 20))\n",
    "plt.scatter(latent_represenation[:, 0], latent_represenation[:, 1], c=y_train)"
   ]
  },
  {
   "cell_type": "code",
   "execution_count": null,
   "id": "65debff0-8d7d-4d44-9133-388284ea1d99",
   "metadata": {},
   "outputs": [],
   "source": []
  }
 ],
 "metadata": {
  "kernelspec": {
   "display_name": "Python 3 (ipykernel)",
   "language": "python",
   "name": "python3"
  },
  "language_info": {
   "codemirror_mode": {
    "name": "ipython",
    "version": 3
   },
   "file_extension": ".py",
   "mimetype": "text/x-python",
   "name": "python",
   "nbconvert_exporter": "python",
   "pygments_lexer": "ipython3",
   "version": "3.8.9"
  }
 },
 "nbformat": 4,
 "nbformat_minor": 5
}
