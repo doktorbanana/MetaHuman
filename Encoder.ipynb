{
 "cells": [
  {
   "cell_type": "markdown",
   "id": "075cda2d-c432-4df4-9afb-ec6efd6b6fbb",
   "metadata": {},
   "source": [
    "# Encoder nach Dennis:"
   ]
  },
  {
   "cell_type": "code",
   "execution_count": 6,
   "id": "a3853671-7565-4521-8e89-d7d83b0aeadf",
   "metadata": {},
   "outputs": [],
   "source": [
    "import numpy as np\n",
    "import matplotlib.pyplot as plt\n",
    "import matplotlib as mpl\n",
    "import pickle\n",
    "import tensorflow as tf\n",
    "from tensorflow import keras\n",
    "from tensorflow.keras import backend as K\n",
    "\n",
    "mpl.rcParams['figure.figsize'] = (15, 5)\n",
    "\n",
    "np.random.seed(42)"
   ]
  },
  {
   "cell_type": "markdown",
   "id": "6916ca4f-a929-4452-aac5-7f23e1effb1b",
   "metadata": {},
   "source": [
    "### Trainingsdata:"
   ]
  },
  {
   "cell_type": "code",
   "execution_count": 7,
   "id": "a62062c2-5d01-4dde-b31f-316daaf049b2",
   "metadata": {
    "tags": []
   },
   "outputs": [
    {
     "name": "stdout",
     "output_type": "stream",
     "text": [
      "(3330, 128, 283, 1)\n"
     ]
    },
    {
     "data": {
      "text/plain": [
       "(3330,)"
      ]
     },
     "execution_count": 7,
     "metadata": {},
     "output_type": "execute_result"
    }
   ],
   "source": [
    "spectogram_data = np.load(\"data\\spectos.npy\")\n",
    "song_labels = np.load(\"data\\song_labels.npy\")\n",
    "position_labels = np.load(\"data\\position_labels.npy\")\n",
    "spectogram_data = spectogram_data[..., np.newaxis]\n",
    "print(spectogram_data.shape)\n",
    "song_labels.shape"
   ]
  },
  {
   "cell_type": "markdown",
   "id": "e663d90b-9a56-41d2-b00f-b87e08f8cda1",
   "metadata": {},
   "source": [
    "### Encoder:"
   ]
  },
  {
   "cell_type": "code",
   "execution_count": 8,
   "id": "f9c714ca-4715-4be2-953a-21fc35c43e8f",
   "metadata": {
    "tags": []
   },
   "outputs": [
    {
     "name": "stdout",
     "output_type": "stream",
     "text": [
      "Model: \"encoder\"\n",
      "_________________________________________________________________\n",
      " Layer (type)                Output Shape              Param #   \n",
      "=================================================================\n",
      " conv2d (Conv2D)             (None, 64, 16, 32)        544       \n",
      "                                                                 \n",
      " conv2d_1 (Conv2D)           (None, 32, 8, 32)         16416     \n",
      "                                                                 \n",
      " flatten (Flatten)           (None, 8192)              0         \n",
      "                                                                 \n",
      " dense (Dense)               (None, 32)                262176    \n",
      "                                                                 \n",
      " dropout (Dropout)           (None, 32)                0         \n",
      "                                                                 \n",
      " dense_1 (Dense)             (None, 2)                 66        \n",
      "                                                                 \n",
      "=================================================================\n",
      "Total params: 279,202\n",
      "Trainable params: 279,202\n",
      "Non-trainable params: 0\n",
      "_________________________________________________________________\n"
     ]
    }
   ],
   "source": [
    "encoder = tf.keras.models.Sequential([\n",
    "    tf.keras.layers.Input(shape=(128, 32, 1)),\n",
    "    tf.keras.layers.Conv2D(32, kernel_size=4, strides=2, padding='same', activation='leaky_relu'),\n",
    "    tf.keras.layers.Conv2D(32, kernel_size=4, strides=2, padding='same', activation='leaky_relu'),\n",
    "    tf.keras.layers.Flatten(),\n",
    "    tf.keras.layers.Dense(32),\n",
    "    tf.keras.layers.Dropout(0.3),\n",
    "    tf.keras.layers.Dense(2),\n",
    "], name='encoder')\n",
    "encoder.summary()"
   ]
  },
  {
   "cell_type": "code",
   "execution_count": 9,
   "id": "dc6e32f7-7d18-48f6-9591-a4007cc34e3e",
   "metadata": {
    "tags": []
   },
   "outputs": [
    {
     "name": "stdout",
     "output_type": "stream",
     "text": [
      "Model: \"decoder\"\n",
      "_________________________________________________________________\n",
      " Layer (type)                Output Shape              Param #   \n",
      "=================================================================\n",
      " dense_2 (Dense)             (None, 64)                192       \n",
      "                                                                 \n",
      " dense_3 (Dense)             (None, 16384)             1064960   \n",
      "                                                                 \n",
      " reshape (Reshape)           (None, 32, 8, 64)         0         \n",
      "                                                                 \n",
      " conv2d_transpose (Conv2DTra  (None, 64, 16, 64)       65600     \n",
      " nspose)                                                         \n",
      "                                                                 \n",
      " conv2d_transpose_1 (Conv2DT  (None, 128, 32, 32)      32800     \n",
      " ranspose)                                                       \n",
      "                                                                 \n",
      " conv2d_transpose_2 (Conv2DT  (None, 128, 32, 1)       513       \n",
      " ranspose)                                                       \n",
      "                                                                 \n",
      "=================================================================\n",
      "Total params: 1,164,065\n",
      "Trainable params: 1,164,065\n",
      "Non-trainable params: 0\n",
      "_________________________________________________________________\n"
     ]
    }
   ],
   "source": [
    "decoder = tf.keras.models.Sequential([\n",
    "    tf.keras.layers.Input(shape=(2,)),\n",
    "    # we want this layer to have the same dimension as the first dense layer\n",
    "    # so we can go \"backwards\" as we have gone \"forwards\"\n",
    "    tf.keras.layers.Dense(64),\n",
    "    tf.keras.layers.Dense(32*8*64),\n",
    "    # reshape from a vector to a multidimensional array (image)\n",
    "    tf.keras.layers.Reshape((32, 8, 64)),\n",
    "    tf.keras.layers.Conv2DTranspose(64, kernel_size=4, strides=2, padding='same', activation='leaky_relu'),\n",
    "    tf.keras.layers.Conv2DTranspose(32, kernel_size=4, strides=2, padding='same', activation='leaky_relu'),\n",
    "    # back to the 1 dimensional black/white image\n",
    "    tf.keras.layers.Conv2DTranspose(1, kernel_size=4, strides=1, padding='same', activation='leaky_relu'),\n",
    "], name='decoder')\n",
    "decoder.summary()"
   ]
  },
  {
   "cell_type": "code",
   "execution_count": 10,
   "id": "ca5fd25f-6960-480b-b323-d324cdd41368",
   "metadata": {
    "tags": []
   },
   "outputs": [
    {
     "name": "stdout",
     "output_type": "stream",
     "text": [
      "Model: \"autoencoder\"\n",
      "_________________________________________________________________\n",
      " Layer (type)                Output Shape              Param #   \n",
      "=================================================================\n",
      " input_1 (InputLayer)        [(None, 128, 32, 1)]      0         \n",
      "                                                                 \n",
      " conv2d (Conv2D)             (None, 64, 16, 32)        544       \n",
      "                                                                 \n",
      " conv2d_1 (Conv2D)           (None, 32, 8, 32)         16416     \n",
      "                                                                 \n",
      " flatten (Flatten)           (None, 8192)              0         \n",
      "                                                                 \n",
      " dense (Dense)               (None, 32)                262176    \n",
      "                                                                 \n",
      " dropout (Dropout)           (None, 32)                0         \n",
      "                                                                 \n",
      " dense_1 (Dense)             (None, 2)                 66        \n",
      "                                                                 \n",
      " decoder (Sequential)        (None, 128, 32, 1)        1164065   \n",
      "                                                                 \n",
      "=================================================================\n",
      "Total params: 1,443,267\n",
      "Trainable params: 1,443,267\n",
      "Non-trainable params: 0\n",
      "_________________________________________________________________\n"
     ]
    }
   ],
   "source": [
    "autoencoder = tf.keras.models.Model(encoder.input, decoder(encoder.output), name='autoencoder')\n",
    "autoencoder.summary()"
   ]
  },
  {
   "cell_type": "code",
   "execution_count": 11,
   "id": "a4912bcc-7e27-454e-b51a-7c51d1001668",
   "metadata": {},
   "outputs": [
    {
     "data": {
      "text/plain": [
       "(3330, 128, 283, 1)"
      ]
     },
     "execution_count": 11,
     "metadata": {},
     "output_type": "execute_result"
    }
   ],
   "source": [
    "spectogram_data.shape"
   ]
  },
  {
   "cell_type": "code",
   "execution_count": 12,
   "id": "5479a75b-9060-45e9-b57a-52a7ba3914e5",
   "metadata": {
    "tags": []
   },
   "outputs": [
    {
     "ename": "ValueError",
     "evalue": "in user code:\n\n    File \"C:\\Users\\FynnFrei\\Documents\\GitHub\\MetaHuman\\venv\\lib\\site-packages\\keras\\engine\\training.py\", line 1021, in train_function  *\n        return step_function(self, iterator)\n    File \"C:\\Users\\FynnFrei\\Documents\\GitHub\\MetaHuman\\venv\\lib\\site-packages\\keras\\engine\\training.py\", line 1010, in step_function  **\n        outputs = model.distribute_strategy.run(run_step, args=(data,))\n    File \"C:\\Users\\FynnFrei\\Documents\\GitHub\\MetaHuman\\venv\\lib\\site-packages\\keras\\engine\\training.py\", line 1000, in run_step  **\n        outputs = model.train_step(data)\n    File \"C:\\Users\\FynnFrei\\Documents\\GitHub\\MetaHuman\\venv\\lib\\site-packages\\keras\\engine\\training.py\", line 859, in train_step\n        y_pred = self(x, training=True)\n    File \"C:\\Users\\FynnFrei\\Documents\\GitHub\\MetaHuman\\venv\\lib\\site-packages\\keras\\utils\\traceback_utils.py\", line 67, in error_handler\n        raise e.with_traceback(filtered_tb) from None\n    File \"C:\\Users\\FynnFrei\\Documents\\GitHub\\MetaHuman\\venv\\lib\\site-packages\\keras\\engine\\input_spec.py\", line 264, in assert_input_compatibility\n        raise ValueError(f'Input {input_index} of layer \"{layer_name}\" is '\n\n    ValueError: Input 0 of layer \"autoencoder\" is incompatible with the layer: expected shape=(None, 128, 32, 1), found shape=(None, 128, 283, 1)\n",
     "output_type": "error",
     "traceback": [
      "\u001b[1;31m---------------------------------------------------------------------------\u001b[0m",
      "\u001b[1;31mValueError\u001b[0m                                Traceback (most recent call last)",
      "Input \u001b[1;32mIn [12]\u001b[0m, in \u001b[0;36m<cell line: 6>\u001b[1;34m()\u001b[0m\n\u001b[0;32m      1\u001b[0m autoencoder\u001b[38;5;241m.\u001b[39mcompile(\n\u001b[0;32m      2\u001b[0m     optimizer\u001b[38;5;241m=\u001b[39mtf\u001b[38;5;241m.\u001b[39mkeras\u001b[38;5;241m.\u001b[39moptimizers\u001b[38;5;241m.\u001b[39mAdam(),\n\u001b[0;32m      3\u001b[0m     loss\u001b[38;5;241m=\u001b[39m\u001b[38;5;28;01mlambda\u001b[39;00m y_true, y_pred: K\u001b[38;5;241m.\u001b[39mmean(K\u001b[38;5;241m.\u001b[39msquare(y_true \u001b[38;5;241m-\u001b[39m y_pred), axis\u001b[38;5;241m=\u001b[39m[\u001b[38;5;241m1\u001b[39m, \u001b[38;5;241m2\u001b[39m, \u001b[38;5;241m3\u001b[39m]),\n\u001b[0;32m      4\u001b[0m )\n\u001b[1;32m----> 6\u001b[0m \u001b[43mautoencoder\u001b[49m\u001b[38;5;241;43m.\u001b[39;49m\u001b[43mfit\u001b[49m\u001b[43m(\u001b[49m\n\u001b[0;32m      7\u001b[0m \u001b[43m    \u001b[49m\u001b[43mx\u001b[49m\u001b[38;5;241;43m=\u001b[39;49m\u001b[43mspectogram_data\u001b[49m\u001b[43m,\u001b[49m\n\u001b[0;32m      8\u001b[0m \u001b[43m    \u001b[49m\u001b[38;5;66;43;03m# use the input as the target\u001b[39;49;00m\n\u001b[0;32m      9\u001b[0m \u001b[43m    \u001b[49m\u001b[43my\u001b[49m\u001b[38;5;241;43m=\u001b[39;49m\u001b[43mspectogram_data\u001b[49m\u001b[43m,\u001b[49m\n\u001b[0;32m     10\u001b[0m \u001b[43m    \u001b[49m\u001b[43mbatch_size\u001b[49m\u001b[38;5;241;43m=\u001b[39;49m\u001b[38;5;241;43m200\u001b[39;49m\u001b[43m,\u001b[49m\n\u001b[0;32m     11\u001b[0m \u001b[43m    \u001b[49m\u001b[43mshuffle\u001b[49m\u001b[38;5;241;43m=\u001b[39;49m\u001b[38;5;28;43;01mTrue\u001b[39;49;00m\u001b[43m,\u001b[49m\n\u001b[0;32m     12\u001b[0m \u001b[43m    \u001b[49m\u001b[43mepochs\u001b[49m\u001b[38;5;241;43m=\u001b[39;49m\u001b[38;5;241;43m1\u001b[39;49m\u001b[43m,\u001b[49m\n\u001b[0;32m     13\u001b[0m \u001b[43m)\u001b[49m\n",
      "File \u001b[1;32m~\\Documents\\GitHub\\MetaHuman\\venv\\lib\\site-packages\\keras\\utils\\traceback_utils.py:67\u001b[0m, in \u001b[0;36mfilter_traceback.<locals>.error_handler\u001b[1;34m(*args, **kwargs)\u001b[0m\n\u001b[0;32m     65\u001b[0m \u001b[38;5;28;01mexcept\u001b[39;00m \u001b[38;5;167;01mException\u001b[39;00m \u001b[38;5;28;01mas\u001b[39;00m e:  \u001b[38;5;66;03m# pylint: disable=broad-except\u001b[39;00m\n\u001b[0;32m     66\u001b[0m   filtered_tb \u001b[38;5;241m=\u001b[39m _process_traceback_frames(e\u001b[38;5;241m.\u001b[39m__traceback__)\n\u001b[1;32m---> 67\u001b[0m   \u001b[38;5;28;01mraise\u001b[39;00m e\u001b[38;5;241m.\u001b[39mwith_traceback(filtered_tb) \u001b[38;5;28;01mfrom\u001b[39;00m \u001b[38;5;28mNone\u001b[39m\n\u001b[0;32m     68\u001b[0m \u001b[38;5;28;01mfinally\u001b[39;00m:\n\u001b[0;32m     69\u001b[0m   \u001b[38;5;28;01mdel\u001b[39;00m filtered_tb\n",
      "File \u001b[1;32m~\\Documents\\GitHub\\MetaHuman\\venv\\lib\\site-packages\\tensorflow\\python\\framework\\func_graph.py:1147\u001b[0m, in \u001b[0;36mfunc_graph_from_py_func.<locals>.autograph_handler\u001b[1;34m(*args, **kwargs)\u001b[0m\n\u001b[0;32m   1145\u001b[0m \u001b[38;5;28;01mexcept\u001b[39;00m \u001b[38;5;167;01mException\u001b[39;00m \u001b[38;5;28;01mas\u001b[39;00m e:  \u001b[38;5;66;03m# pylint:disable=broad-except\u001b[39;00m\n\u001b[0;32m   1146\u001b[0m   \u001b[38;5;28;01mif\u001b[39;00m \u001b[38;5;28mhasattr\u001b[39m(e, \u001b[38;5;124m\"\u001b[39m\u001b[38;5;124mag_error_metadata\u001b[39m\u001b[38;5;124m\"\u001b[39m):\n\u001b[1;32m-> 1147\u001b[0m     \u001b[38;5;28;01mraise\u001b[39;00m e\u001b[38;5;241m.\u001b[39mag_error_metadata\u001b[38;5;241m.\u001b[39mto_exception(e)\n\u001b[0;32m   1148\u001b[0m   \u001b[38;5;28;01melse\u001b[39;00m:\n\u001b[0;32m   1149\u001b[0m     \u001b[38;5;28;01mraise\u001b[39;00m\n",
      "\u001b[1;31mValueError\u001b[0m: in user code:\n\n    File \"C:\\Users\\FynnFrei\\Documents\\GitHub\\MetaHuman\\venv\\lib\\site-packages\\keras\\engine\\training.py\", line 1021, in train_function  *\n        return step_function(self, iterator)\n    File \"C:\\Users\\FynnFrei\\Documents\\GitHub\\MetaHuman\\venv\\lib\\site-packages\\keras\\engine\\training.py\", line 1010, in step_function  **\n        outputs = model.distribute_strategy.run(run_step, args=(data,))\n    File \"C:\\Users\\FynnFrei\\Documents\\GitHub\\MetaHuman\\venv\\lib\\site-packages\\keras\\engine\\training.py\", line 1000, in run_step  **\n        outputs = model.train_step(data)\n    File \"C:\\Users\\FynnFrei\\Documents\\GitHub\\MetaHuman\\venv\\lib\\site-packages\\keras\\engine\\training.py\", line 859, in train_step\n        y_pred = self(x, training=True)\n    File \"C:\\Users\\FynnFrei\\Documents\\GitHub\\MetaHuman\\venv\\lib\\site-packages\\keras\\utils\\traceback_utils.py\", line 67, in error_handler\n        raise e.with_traceback(filtered_tb) from None\n    File \"C:\\Users\\FynnFrei\\Documents\\GitHub\\MetaHuman\\venv\\lib\\site-packages\\keras\\engine\\input_spec.py\", line 264, in assert_input_compatibility\n        raise ValueError(f'Input {input_index} of layer \"{layer_name}\" is '\n\n    ValueError: Input 0 of layer \"autoencoder\" is incompatible with the layer: expected shape=(None, 128, 32, 1), found shape=(None, 128, 283, 1)\n"
     ]
    }
   ],
   "source": [
    "autoencoder.compile(\n",
    "    optimizer=tf.keras.optimizers.Adam(),\n",
    "    loss=lambda y_true, y_pred: K.mean(K.square(y_true - y_pred), axis=[1, 2, 3]),\n",
    ")\n",
    "\n",
    "autoencoder.fit(\n",
    "    x=spectogram_data,\n",
    "    # use the input as the target\n",
    "    y=spectogram_data,\n",
    "    batch_size=200,\n",
    "    shuffle=True,\n",
    "    epochs=1,\n",
    ")"
   ]
  },
  {
   "cell_type": "markdown",
   "id": "dfb670b4-1eda-4914-8c02-4848804cab4d",
   "metadata": {},
   "source": [
    "### Latent space Repräsentation:"
   ]
  },
  {
   "cell_type": "code",
   "execution_count": 13,
   "id": "564c872b-ddef-4238-b46c-034914edb70e",
   "metadata": {},
   "outputs": [
    {
     "ename": "ValueError",
     "evalue": "in user code:\n\n    File \"C:\\Users\\FynnFrei\\Documents\\GitHub\\MetaHuman\\venv\\lib\\site-packages\\keras\\engine\\training.py\", line 1801, in predict_function  *\n        return step_function(self, iterator)\n    File \"C:\\Users\\FynnFrei\\Documents\\GitHub\\MetaHuman\\venv\\lib\\site-packages\\keras\\engine\\training.py\", line 1790, in step_function  **\n        outputs = model.distribute_strategy.run(run_step, args=(data,))\n    File \"C:\\Users\\FynnFrei\\Documents\\GitHub\\MetaHuman\\venv\\lib\\site-packages\\keras\\engine\\training.py\", line 1783, in run_step  **\n        outputs = model.predict_step(data)\n    File \"C:\\Users\\FynnFrei\\Documents\\GitHub\\MetaHuman\\venv\\lib\\site-packages\\keras\\engine\\training.py\", line 1751, in predict_step\n        return self(x, training=False)\n    File \"C:\\Users\\FynnFrei\\Documents\\GitHub\\MetaHuman\\venv\\lib\\site-packages\\keras\\utils\\traceback_utils.py\", line 67, in error_handler\n        raise e.with_traceback(filtered_tb) from None\n    File \"C:\\Users\\FynnFrei\\Documents\\GitHub\\MetaHuman\\venv\\lib\\site-packages\\keras\\engine\\input_spec.py\", line 264, in assert_input_compatibility\n        raise ValueError(f'Input {input_index} of layer \"{layer_name}\" is '\n\n    ValueError: Input 0 of layer \"encoder\" is incompatible with the layer: expected shape=(None, 128, 32, 1), found shape=(None, 128, 283, 1)\n",
     "output_type": "error",
     "traceback": [
      "\u001b[1;31m---------------------------------------------------------------------------\u001b[0m",
      "\u001b[1;31mValueError\u001b[0m                                Traceback (most recent call last)",
      "Input \u001b[1;32mIn [13]\u001b[0m, in \u001b[0;36m<cell line: 1>\u001b[1;34m()\u001b[0m\n\u001b[1;32m----> 1\u001b[0m latent_representation \u001b[38;5;241m=\u001b[39m \u001b[43mencoder\u001b[49m\u001b[38;5;241;43m.\u001b[39;49m\u001b[43mpredict\u001b[49m\u001b[43m(\u001b[49m\u001b[43mspectogram_data\u001b[49m\u001b[43m)\u001b[49m\n\u001b[0;32m      2\u001b[0m latent_representation\u001b[38;5;241m.\u001b[39mshape\n",
      "File \u001b[1;32m~\\Documents\\GitHub\\MetaHuman\\venv\\lib\\site-packages\\keras\\utils\\traceback_utils.py:67\u001b[0m, in \u001b[0;36mfilter_traceback.<locals>.error_handler\u001b[1;34m(*args, **kwargs)\u001b[0m\n\u001b[0;32m     65\u001b[0m \u001b[38;5;28;01mexcept\u001b[39;00m \u001b[38;5;167;01mException\u001b[39;00m \u001b[38;5;28;01mas\u001b[39;00m e:  \u001b[38;5;66;03m# pylint: disable=broad-except\u001b[39;00m\n\u001b[0;32m     66\u001b[0m   filtered_tb \u001b[38;5;241m=\u001b[39m _process_traceback_frames(e\u001b[38;5;241m.\u001b[39m__traceback__)\n\u001b[1;32m---> 67\u001b[0m   \u001b[38;5;28;01mraise\u001b[39;00m e\u001b[38;5;241m.\u001b[39mwith_traceback(filtered_tb) \u001b[38;5;28;01mfrom\u001b[39;00m \u001b[38;5;28mNone\u001b[39m\n\u001b[0;32m     68\u001b[0m \u001b[38;5;28;01mfinally\u001b[39;00m:\n\u001b[0;32m     69\u001b[0m   \u001b[38;5;28;01mdel\u001b[39;00m filtered_tb\n",
      "File \u001b[1;32m~\\Documents\\GitHub\\MetaHuman\\venv\\lib\\site-packages\\tensorflow\\python\\framework\\func_graph.py:1147\u001b[0m, in \u001b[0;36mfunc_graph_from_py_func.<locals>.autograph_handler\u001b[1;34m(*args, **kwargs)\u001b[0m\n\u001b[0;32m   1145\u001b[0m \u001b[38;5;28;01mexcept\u001b[39;00m \u001b[38;5;167;01mException\u001b[39;00m \u001b[38;5;28;01mas\u001b[39;00m e:  \u001b[38;5;66;03m# pylint:disable=broad-except\u001b[39;00m\n\u001b[0;32m   1146\u001b[0m   \u001b[38;5;28;01mif\u001b[39;00m \u001b[38;5;28mhasattr\u001b[39m(e, \u001b[38;5;124m\"\u001b[39m\u001b[38;5;124mag_error_metadata\u001b[39m\u001b[38;5;124m\"\u001b[39m):\n\u001b[1;32m-> 1147\u001b[0m     \u001b[38;5;28;01mraise\u001b[39;00m e\u001b[38;5;241m.\u001b[39mag_error_metadata\u001b[38;5;241m.\u001b[39mto_exception(e)\n\u001b[0;32m   1148\u001b[0m   \u001b[38;5;28;01melse\u001b[39;00m:\n\u001b[0;32m   1149\u001b[0m     \u001b[38;5;28;01mraise\u001b[39;00m\n",
      "\u001b[1;31mValueError\u001b[0m: in user code:\n\n    File \"C:\\Users\\FynnFrei\\Documents\\GitHub\\MetaHuman\\venv\\lib\\site-packages\\keras\\engine\\training.py\", line 1801, in predict_function  *\n        return step_function(self, iterator)\n    File \"C:\\Users\\FynnFrei\\Documents\\GitHub\\MetaHuman\\venv\\lib\\site-packages\\keras\\engine\\training.py\", line 1790, in step_function  **\n        outputs = model.distribute_strategy.run(run_step, args=(data,))\n    File \"C:\\Users\\FynnFrei\\Documents\\GitHub\\MetaHuman\\venv\\lib\\site-packages\\keras\\engine\\training.py\", line 1783, in run_step  **\n        outputs = model.predict_step(data)\n    File \"C:\\Users\\FynnFrei\\Documents\\GitHub\\MetaHuman\\venv\\lib\\site-packages\\keras\\engine\\training.py\", line 1751, in predict_step\n        return self(x, training=False)\n    File \"C:\\Users\\FynnFrei\\Documents\\GitHub\\MetaHuman\\venv\\lib\\site-packages\\keras\\utils\\traceback_utils.py\", line 67, in error_handler\n        raise e.with_traceback(filtered_tb) from None\n    File \"C:\\Users\\FynnFrei\\Documents\\GitHub\\MetaHuman\\venv\\lib\\site-packages\\keras\\engine\\input_spec.py\", line 264, in assert_input_compatibility\n        raise ValueError(f'Input {input_index} of layer \"{layer_name}\" is '\n\n    ValueError: Input 0 of layer \"encoder\" is incompatible with the layer: expected shape=(None, 128, 32, 1), found shape=(None, 128, 283, 1)\n"
     ]
    }
   ],
   "source": [
    "latent_representation = encoder.predict(spectogram_data)\n",
    "latent_representation.shape"
   ]
  },
  {
   "cell_type": "markdown",
   "id": "23efb9ba-7614-4675-9063-70992ecb6c27",
   "metadata": {
    "tags": []
   },
   "source": [
    "#### latent_representation ist ein zweidimensionales Array, das die Koordinaten aller Wavesets im Latent space enthält."
   ]
  },
  {
   "cell_type": "code",
   "execution_count": 13,
   "id": "10b9fc65-3779-468f-9b9e-ebbd7e4a7440",
   "metadata": {
    "tags": []
   },
   "outputs": [
    {
     "name": "stdout",
     "output_type": "stream",
     "text": [
      "[4686.2407  750.8321]\n"
     ]
    }
   ],
   "source": [
    "i = 2\n",
    "print(latent_representation[i])"
   ]
  },
  {
   "cell_type": "code",
   "execution_count": 14,
   "id": "846aa203-f55e-464a-b4a7-ab6ffaa24b32",
   "metadata": {
    "collapsed": true,
    "jupyter": {
     "outputs_hidden": true
    },
    "tags": []
   },
   "outputs": [
    {
     "data": {
      "text/plain": [
       "<matplotlib.collections.PathCollection at 0x19aa4b30100>"
      ]
     },
     "execution_count": 14,
     "metadata": {},
     "output_type": "execute_result"
    },
    {
     "data": {
      "image/png": "[encoded data removed]",
      "text/plain": [
       "<Figure size 1080x1080 with 1 Axes>"
      ]
     },
     "metadata": {
      "needs_background": "light"
     },
     "output_type": "display_data"
    }
   ],
   "source": [
    "plt.figure(figsize=(15, 15))\n",
    "plt.scatter(latent_representation[:, 0], latent_representation[:, 1], c=position_labels)"
   ]
  },
  {
   "cell_type": "markdown",
   "id": "a2a07819-fdc7-4b0c-ac08-a88abffd2005",
   "metadata": {},
   "source": [
    "1D Array mit Anzahl der Wavesets pro Song:"
   ]
  },
  {
   "cell_type": "code",
   "execution_count": 4,
   "id": "e318d253-f36c-4055-a156-b213f80c3a97",
   "metadata": {},
   "outputs": [
    {
     "name": "stdout",
     "output_type": "stream",
     "text": [
      "[315  20  83 236 146 290  60 157 176  38  21  28  72  99  71  68 246  37\n",
      "  57  23 483  93  90 421]\n"
     ]
    }
   ],
   "source": [
    "num_of_ws_per_song = np.load(\"data/num_of_ws_per_song.npy\")\n",
    "num_of_ws_per_song.shape\n",
    "print(num_of_ws_per_song)"
   ]
  },
  {
   "cell_type": "markdown",
   "id": "526fd71b-0a3b-486c-bf2a-00067b73e7a2",
   "metadata": {},
   "source": [
    "#### Array aus latent_representation und Anzahl der Wavesets pro Song"
   ]
  },
  {
   "cell_type": "code",
   "execution_count": 5,
   "id": "65debff0-8d7d-4d44-9133-388284ea1d99",
   "metadata": {
    "tags": []
   },
   "outputs": [
    {
     "ename": "NameError",
     "evalue": "name 'latent_representation' is not defined",
     "output_type": "error",
     "traceback": [
      "\u001b[1;31m---------------------------------------------------------------------------\u001b[0m",
      "\u001b[1;31mNameError\u001b[0m                                 Traceback (most recent call last)",
      "Input \u001b[1;32mIn [5]\u001b[0m, in \u001b[0;36m<cell line: 1>\u001b[1;34m()\u001b[0m\n\u001b[1;32m----> 1\u001b[0m song_orders \u001b[38;5;241m=\u001b[39m [latent_representation[num_of_ws_per_song[\u001b[38;5;241m0\u001b[39m:i]\u001b[38;5;241m.\u001b[39msum():num_of_ws_per_song[\u001b[38;5;241m0\u001b[39m:i\u001b[38;5;241m+\u001b[39m\u001b[38;5;241m1\u001b[39m]\u001b[38;5;241m.\u001b[39msum(), :] \u001b[38;5;28;01mfor\u001b[39;00m i \u001b[38;5;129;01min\u001b[39;00m \u001b[38;5;28mrange\u001b[39m(\u001b[38;5;241m0\u001b[39m, \u001b[38;5;28mlen\u001b[39m(num_of_ws_per_song))]\n\u001b[0;32m      2\u001b[0m \u001b[38;5;28mprint\u001b[39m(song_orders[\u001b[38;5;241m0\u001b[39m:\u001b[38;5;241m1\u001b[39m])\n",
      "Input \u001b[1;32mIn [5]\u001b[0m, in \u001b[0;36m<listcomp>\u001b[1;34m(.0)\u001b[0m\n\u001b[1;32m----> 1\u001b[0m song_orders \u001b[38;5;241m=\u001b[39m [\u001b[43mlatent_representation\u001b[49m[num_of_ws_per_song[\u001b[38;5;241m0\u001b[39m:i]\u001b[38;5;241m.\u001b[39msum():num_of_ws_per_song[\u001b[38;5;241m0\u001b[39m:i\u001b[38;5;241m+\u001b[39m\u001b[38;5;241m1\u001b[39m]\u001b[38;5;241m.\u001b[39msum(), :] \u001b[38;5;28;01mfor\u001b[39;00m i \u001b[38;5;129;01min\u001b[39;00m \u001b[38;5;28mrange\u001b[39m(\u001b[38;5;241m0\u001b[39m, \u001b[38;5;28mlen\u001b[39m(num_of_ws_per_song))]\n\u001b[0;32m      2\u001b[0m \u001b[38;5;28mprint\u001b[39m(song_orders[\u001b[38;5;241m0\u001b[39m:\u001b[38;5;241m1\u001b[39m])\n",
      "\u001b[1;31mNameError\u001b[0m: name 'latent_representation' is not defined"
     ]
    }
   ],
   "source": [
    "song_orders = [latent_representation[num_of_ws_per_song[0:i].sum():num_of_ws_per_song[0:i+1].sum(), :] for i in range(0, len(num_of_ws_per_song))]\n",
    "print(song_orders[0:1])"
   ]
  },
  {
   "cell_type": "markdown",
   "id": "883ec8ea-2d29-43b3-a3d3-f007884b9382",
   "metadata": {},
   "source": [
    "### Save Data\n",
    "Save data in .txt on disk for later use."
   ]
  },
  {
   "cell_type": "code",
   "execution_count": 20,
   "id": "fdf3df88-64a8-4ddc-96c3-a07f1452df43",
   "metadata": {
    "tags": []
   },
   "outputs": [],
   "source": [
    "song_orders = [[[12.68275, -2.3526],[198.431, 67.430]],[[-4.896, -69.123]]] #example list\n",
    "with open(\"data/song_orders.txt\", \"wb\") as fp:\n",
    "    pickle.dump(song_orders, fp)"
   ]
  },
  {
   "cell_type": "markdown",
   "id": "e8d293ba-c348-4bc2-a10e-cd8150dfb967",
   "metadata": {},
   "source": [
    "The data can be loaded like this:"
   ]
  },
  {
   "cell_type": "code",
   "execution_count": 21,
   "id": "b0e35261-5a23-4e49-bcd7-633481154e6a",
   "metadata": {
    "tags": []
   },
   "outputs": [
    {
     "name": "stdout",
     "output_type": "stream",
     "text": [
      "[[[12.68275, -2.3526], [198.431, 67.43]], [[-4.896, -69.123]]]\n"
     ]
    }
   ],
   "source": [
    "with open(\"data/song_orders.txt\", \"rb\") as fp:\n",
    "    song_orders = pickle.load(fp)\n",
    "\n",
    "print(song_orders)"
   ]
  },
  {
   "cell_type": "code",
   "execution_count": null,
   "id": "cc2af6ee-6fa5-4025-9dab-73df9976b27d",
   "metadata": {},
   "outputs": [],
   "source": []
  }
 ],
 "metadata": {
  "kernelspec": {
   "display_name": "Python 3 (ipykernel)",
   "language": "python",
   "name": "python3"
  },
  "language_info": {
   "codemirror_mode": {
    "name": "ipython",
    "version": 3
   },
   "file_extension": ".py",
   "mimetype": "text/x-python",
   "name": "python",
   "nbconvert_exporter": "python",
   "pygments_lexer": "ipython3",
   "version": "3.8.9"
  }
 },
 "nbformat": 4,
 "nbformat_minor": 5
}
