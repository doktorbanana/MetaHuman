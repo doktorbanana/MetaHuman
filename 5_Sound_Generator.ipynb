{
 "cells": [
  {
   "cell_type": "code",
   "execution_count": null,
   "id": "a0134776-751c-4515-b0fb-ea215b64beea",
   "metadata": {},
   "outputs": [],
   "source": [
    "class Sound"
   ]
  }
 ],
 "metadata": {
  "kernelspec": {
   "display_name": "Python 3 (ipykernel)",
   "language": "python",
   "name": "python3"
  },
  "language_info": {
   "name": ""
  }
 },
 "nbformat": 4,
 "nbformat_minor": 5
}
