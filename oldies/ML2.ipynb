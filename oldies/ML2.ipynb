{
 "cells": [
  {
   "cell_type": "markdown",
   "id": "db49fd81-bdab-4796-88aa-d7fecab98d4e",
   "metadata": {},
   "source": [
    "# Autoencoder für die Reihenfolge:"
   ]
  },
  {
   "cell_type": "code",
   "execution_count": 1,
   "id": "bd0f6625-0b39-4094-a25b-e6cc17f39654",
   "metadata": {},
   "outputs": [],
   "source": [
    "import numpy as np\n",
    "import matplotlib.pyplot as plt\n",
    "import matplotlib as mpl\n",
    "import pickle\n",
    "import tensorflow as tf\n",
    "from tensorflow import keras\n",
    "from tensorflow.keras import backend as K\n",
    "\n",
    "mpl.rcParams['figure.figsize'] = (15, 5)\n",
    "\n",
    "np.random.seed(42)"
   ]
  },
  {
   "cell_type": "markdown",
   "id": "b53472cc-5854-46d4-abb7-6e3fcfefccd8",
   "metadata": {
    "tags": []
   },
   "source": [
    "### Setup Input Data:"
   ]
  },
  {
   "cell_type": "markdown",
   "id": "54e2570b-1de3-4f77-92c9-0fc9769cea22",
   "metadata": {},
   "source": [
    "Wie viele Songs welcher Länge werden geladen?"
   ]
  },
  {
   "cell_type": "code",
   "execution_count": 8,
   "id": "a0458247-55c3-46ac-ae1c-844ad9d12fd6",
   "metadata": {},
   "outputs": [
    {
     "name": "stdout",
     "output_type": "stream",
     "text": [
      "(24,)\n"
     ]
    }
   ],
   "source": [
    "num_of_ws_per_song = np.load(\"data/numOfWs.npy\")\n",
    "print(num_of_ws_per_song.shape)"
   ]
  },
  {
   "cell_type": "markdown",
   "id": "719bbd8f-9cca-4394-bc06-bff0a388ecb2",
   "metadata": {},
   "source": [
    "Jedes File (song_order[i]) ist die Latent_Space Repräsentation eines Songs:"
   ]
  },
  {
   "cell_type": "code",
   "execution_count": 10,
   "id": "015980d5-860c-4353-a4fc-36881bb4529f",
   "metadata": {
    "tags": []
   },
   "outputs": [
    {
     "name": "stdout",
     "output_type": "stream",
     "text": [
      "(1, 421, 2)\n"
     ]
    }
   ],
   "source": [
    "for i in range(0, len(num_of_ws_per_song)):\n",
    "    filename = \"data/song_orders/song%d_orders.txt\" % (i)\n",
    "    with open(filename, \"rb\") as fp:\n",
    "        globals()[\"song_order%s\" %i] = pickle.load(fp)\n",
    "    globals()[\"song_order%s\" %i] = np.array(globals()[\"song_order%s\" %i])\n",
    "\n",
    "print(song_order23.shape)"
   ]
  },
  {
   "cell_type": "code",
   "execution_count": null,
   "id": "651556d3-ca09-4057-866c-1b976f9df163",
   "metadata": {},
   "outputs": [],
   "source": []
  },
  {
   "cell_type": "code",
   "execution_count": null,
   "id": "412c4f52-4e98-4697-98b4-f130cd72b17e",
   "metadata": {},
   "outputs": [],
   "source": []
  },
  {
   "cell_type": "markdown",
   "id": "5d49bd12-5f8a-4d35-8bf0-fd6b678efb08",
   "metadata": {},
   "source": [
    "### Encoder:"
   ]
  },
  {
   "cell_type": "code",
   "execution_count": null,
   "id": "94c30423-a460-4842-a126-bd2b5bedffa9",
   "metadata": {},
   "outputs": [],
   "source": [
    "encoder = tf.keras.models.Sequential([\n",
    "    tf.keras.layers.Input(shape=(128, 2)),\n",
    "    tf.keras.layers.Conv2D(32, kernel_size=4, strides=2, padding='same', activation='leaky_relu'),\n",
    "    tf.keras.layers.Conv2D(32, kernel_size=4, strides=2, padding='same', activation='leaky_relu'),\n",
    "    tf.keras.layers.Flatten(),\n",
    "    tf.keras.layers.Dense(32),\n",
    "    tf.keras.layers.Dropout(0.3),\n",
    "    tf.keras.layers.Dense(2),\n",
    "], name='encoder')\n",
    "encoder.summary()"
   ]
  }
 ],
 "metadata": {
  "kernelspec": {
   "display_name": "Python 3 (ipykernel)",
   "language": "python",
   "name": "python3"
  },
  "language_info": {
   "codemirror_mode": {
    "name": "ipython",
    "version": 3
   },
   "file_extension": ".py",
   "mimetype": "text/x-python",
   "name": "python",
   "nbconvert_exporter": "python",
   "pygments_lexer": "ipython3",
   "version": "3.8.10"
  }
 },
 "nbformat": 4,
 "nbformat_minor": 5
}
