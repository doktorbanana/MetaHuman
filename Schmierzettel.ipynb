{
 "cells": [
  {
   "cell_type": "markdown",
   "id": "35ff6a94-eabb-4e8f-a79d-fcfe06796599",
   "metadata": {},
   "source": [
    "Hallo? Kann mich jemand hören?"
   ]
  },
  {
   "cell_type": "markdown",
   "id": "18208378-95b7-421c-b151-7e6da2656f4e",
   "metadata": {},
   "source": []
  },
  {
   "cell_type": "markdown",
   "id": "8fcbf18a-04e8-497e-b3fb-2467d849fca3",
   "metadata": {},
   "source": [
    "- mehr dims im latent Space?\n",
    "- mehr Daten?\n",
    "- längere WS? Valerio: 256bins + 64 framesize!\n",
    "- mehr Epoch? Valerio 150 !\n"
   ]
  },
  {
   "cell_type": "markdown",
   "id": "0d77cdff-7ef6-40c6-9caf-7ed0ab623c79",
   "metadata": {},
   "source": []
  },
  {
   "cell_type": "markdown",
   "id": "1c3fe4aa-aeb0-4019-af55-bf02ca161889",
   "metadata": {},
   "source": [
    "Copy Normalization in Wavesets Notebook"
   ]
  },
  {
   "cell_type": "markdown",
   "id": "a8252d6a-8b31-41ff-aed0-1ece402abc41",
   "metadata": {},
   "source": [
    "- Test und Train Set machen"
   ]
  },
  {
   "cell_type": "code",
   "execution_count": null,
   "id": "ff0d574a-3606-45c5-b711-44802cc55136",
   "metadata": {},
   "outputs": [],
   "source": []
  }
 ],
 "metadata": {
  "kernelspec": {
   "display_name": "Python 3 (ipykernel)",
   "language": "python",
   "name": "python3"
  },
  "language_info": {
   "codemirror_mode": {
    "name": "ipython",
    "version": 3
   },
   "file_extension": ".py",
   "mimetype": "text/x-python",
   "name": "python",
   "nbconvert_exporter": "python",
   "pygments_lexer": "ipython3",
   "version": "3.8.10"
  }
 },
 "nbformat": 4,
 "nbformat_minor": 5
}
