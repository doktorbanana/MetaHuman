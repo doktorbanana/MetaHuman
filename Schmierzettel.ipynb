{
 "cells": [
  {
   "cell_type": "code",
   "execution_count": 2,
   "id": "42c933f4-7357-4ba5-8e2d-ba9a4868e8f7",
   "metadata": {},
   "outputs": [],
   "source": [
    "import numpy as np"
   ]
  },
  {
   "cell_type": "code",
   "execution_count": 6,
   "id": "7efd01ea-9bcc-4a2f-ab91-d9f903c0c535",
   "metadata": {},
   "outputs": [
    {
     "name": "stdout",
     "output_type": "stream",
     "text": [
      "[0 1 3 6]\n"
     ]
    }
   ],
   "source": [
    "a1 = np.array([[1., 1.],[2., -2.],[3., 3.]])\n",
    "a2 = np.array([1, 2, 3, 4])\n",
    "a3 = np.array([a2[0:i].sum() for i in range(0, len(a2))])\n",
    "a3.shape\n",
    "print(a3)"
   ]
  },
  {
   "cell_type": "code",
   "execution_count": 7,
   "id": "823e062d-5f8c-4e6b-aa6f-d87520959158",
   "metadata": {},
   "outputs": [
    {
     "data": {
      "text/plain": [
       "[array([], shape=(0, 2), dtype=float64),\n",
       " array([[1., 1.]]),\n",
       " array([[ 2., -2.],\n",
       "        [ 3.,  3.]]),\n",
       " array([], shape=(0, 2), dtype=float64),\n",
       " array([], shape=(0, 2), dtype=float64)]"
      ]
     },
     "execution_count": 7,
     "metadata": {},
     "output_type": "execute_result"
    }
   ],
   "source": [
    "np.split(a1, a3)"
   ]
  },
  {
   "cell_type": "code",
   "execution_count": 32,
   "id": "b83a97be-38d9-434d-a8a1-d7f101b4622b",
   "metadata": {},
   "outputs": [
    {
     "name": "stdout",
     "output_type": "stream",
     "text": [
      "2\n",
      "[[1, 2], [3, 4]] [[5, 6]]\n"
     ]
    }
   ],
   "source": [
    "lst = [[[1, 2], [3, 4]], [[5, 6]]]\n",
    "pad = len(max(lst, key=len))\n",
    "#np.array([[i + [0]*(pad-len(i)) for i in lst]])\n",
    "print(pad)\n",
    "print(lst[0],lst[1])"
   ]
  },
  {
   "cell_type": "code",
   "execution_count": 51,
   "id": "dd90cd4d-bdea-48c5-867a-30cde6fa7997",
   "metadata": {},
   "outputs": [
    {
     "name": "stdout",
     "output_type": "stream",
     "text": [
      "[array([[1, 2, 3, 4],\n",
      "       [1, 2, 0, 0]])]\n"
     ]
    }
   ],
   "source": [
    "lst = [[1, 2, 3, 4], [1, 2, 0, 0]]\n",
    "l = np.array_split(lst,1,axis=0)\n",
    "print(l)"
   ]
  },
  {
   "cell_type": "markdown",
   "id": "6abd789e-6ce2-40e1-b9db-2d6ef7ba5f54",
   "metadata": {},
   "source": [
    "#### Array aus latent_representation und Anzahl der Wavesets pro Song"
   ]
  },
  {
   "cell_type": "code",
   "execution_count": null,
   "id": "dfdf147b-030f-4f08-a48f-d367922ddc45",
   "metadata": {},
   "outputs": [],
   "source": [
    "song_orders = [latent_representation[num_of_ws_per_song[0:i].sum():num_of_ws_per_song[0:i+1].sum(), :] for i in range(0, len(num_of_ws_per_song))]\n",
    "#print(song_orders[23:24])"
   ]
  },
  {
   "cell_type": "code",
   "execution_count": 62,
   "id": "bc6cec0e-ddad-478c-998e-97f144166ccb",
   "metadata": {},
   "outputs": [],
   "source": [
    "for x in range(0, 9):\n",
    "    globals()['string%s' % x] = 'Hello'"
   ]
  },
  {
   "cell_type": "code",
   "execution_count": null,
   "id": "ed75a96d-d0f1-4705-9e7e-1c449c5be2b5",
   "metadata": {},
   "outputs": [],
   "source": [
    "with open(\"data/song_orders.txt\", \"wb\") as fp:\n",
    "    pickle.dump(latent_representation[0:i], fp)"
   ]
  }
 ],
 "metadata": {
  "kernelspec": {
   "display_name": "Python 3 (ipykernel)",
   "language": "python",
   "name": "python3"
  },
  "language_info": {
   "codemirror_mode": {
    "name": "ipython",
    "version": 3
   },
   "file_extension": ".py",
   "mimetype": "text/x-python",
   "name": "python",
   "nbconvert_exporter": "python",
   "pygments_lexer": "ipython3",
   "version": "3.8.10"
  }
 },
 "nbformat": 4,
 "nbformat_minor": 5
}
